{
 "cells": [
  {
   "cell_type": "markdown",
   "id": "df4e7fe4",
   "metadata": {},
   "source": [
    "Reading CSV file in Pandas"
   ]
  },
  {
   "cell_type": "code",
   "execution_count": 1,
   "id": "2dc2a2a0",
   "metadata": {},
   "outputs": [],
   "source": [
    "import pandas as pd"
   ]
  },
  {
   "cell_type": "code",
   "execution_count": null,
   "id": "d9107ccc",
   "metadata": {},
   "outputs": [],
   "source": [
    "df_csv = pd.read_csv('sales_data_sample.csv',encoding=\"latin1\")\n",
    "df_csv"
   ]
  },
  {
   "cell_type": "code",
   "execution_count": null,
   "id": "6834c2e5",
   "metadata": {},
   "outputs": [],
   "source": [
    "df_json = pd.read_json('sample_Data.json')\n",
    "df_json"
   ]
  },
  {
   "cell_type": "code",
   "execution_count": null,
   "id": "ca3bf8b4",
   "metadata": {},
   "outputs": [],
   "source": [
    "df_excel = pd.read_excel('SampleSuperstore.xlsx')\n",
    "df_excel"
   ]
  },
  {
   "cell_type": "code",
   "execution_count": 12,
   "id": "7068a5b1",
   "metadata": {},
   "outputs": [],
   "source": [
    "data = {\n",
    "    \"Name\":[\"Rajendra Chimala\",\"Binod Bohara\",\"Khum Chy\"],\n",
    "    \"Age\":[10,20,30],\n",
    "    \"City\":[\"Doti\",\"Achham\",\"Kailali\"]\n",
    "}\n",
    "\n",
    "\n",
    "df = pd.DataFrame(data)\n",
    "df\n",
    "\n",
    "# Saving data in CSV file\n",
    "df.to_csv(\"Dataframe_Saved_In_CSV_File.csv\",index=False)\n",
    "df.to_excel(\"Dataframe_Saved_In_Excel_File.xlsx\",index=False)\n",
    "df.to_json(\"Dataframe_Saved_In_JSON_File.json\",index=False)"
   ]
  },
  {
   "cell_type": "code",
   "execution_count": null,
   "id": "740967ba",
   "metadata": {},
   "outputs": [],
   "source": []
  }
 ],
 "metadata": {
  "kernelspec": {
   "display_name": "Python 3",
   "language": "python",
   "name": "python3"
  },
  "language_info": {
   "codemirror_mode": {
    "name": "ipython",
    "version": 3
   },
   "file_extension": ".py",
   "mimetype": "text/x-python",
   "name": "python",
   "nbconvert_exporter": "python",
   "pygments_lexer": "ipython3",
   "version": "3.12.6"
  }
 },
 "nbformat": 4,
 "nbformat_minor": 5
}
